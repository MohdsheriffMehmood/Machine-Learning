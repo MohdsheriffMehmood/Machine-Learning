{
  "nbformat": 4,
  "nbformat_minor": 0,
  "metadata": {
    "colab": {
      "name": "Multiple Linear Regression",
      "provenance": [],
      "collapsed_sections": []
    },
    "kernelspec": {
      "name": "python3",
      "display_name": "Python 3"
    }
  },
  "cells": [
    {
      "cell_type": "code",
      "metadata": {
        "id": "jk0G0l-vc-L0",
        "colab_type": "code",
        "colab": {}
      },
      "source": [
        "#import Libraries\n",
        "import numpy as np\n",
        "import pandas as pd\n",
        "\n",
        "%matplotlib inline\n",
        "import matplotlib.pyplot as plt\n",
        "from mpl_toolkits import mplot3d\n"
      ],
      "execution_count": 1,
      "outputs": []
    },
    {
      "cell_type": "code",
      "metadata": {
        "id": "l6uf26vHdPkY",
        "colab_type": "code",
        "colab": {
          "base_uri": "https://localhost:8080/",
          "height": 1000
        },
        "outputId": "d3232113-d8a8-41d5-8b1c-104d53f4bf9f"
      },
      "source": [
        "#inserting the data set\n",
        "dataset=pd.read_csv('Advertising.csv')\n",
        "X=dataset.iloc[: ,1 :-1].values\n",
        "Y=dataset.iloc[:,-1].values\n",
        "print(X)\n"
      ],
      "execution_count": 3,
      "outputs": [
        {
          "output_type": "stream",
          "text": [
            "[[230.1  37.8  69.2]\n",
            " [ 44.5  39.3  45.1]\n",
            " [ 17.2  45.9  69.3]\n",
            " [151.5  41.3  58.5]\n",
            " [180.8  10.8  58.4]\n",
            " [  8.7  48.9  75. ]\n",
            " [ 57.5  32.8  23.5]\n",
            " [120.2  19.6  11.6]\n",
            " [  8.6   2.1   1. ]\n",
            " [199.8   2.6  21.2]\n",
            " [ 66.1   5.8  24.2]\n",
            " [214.7  24.    4. ]\n",
            " [ 23.8  35.1  65.9]\n",
            " [ 97.5   7.6   7.2]\n",
            " [204.1  32.9  46. ]\n",
            " [195.4  47.7  52.9]\n",
            " [ 67.8  36.6 114. ]\n",
            " [281.4  39.6  55.8]\n",
            " [ 69.2  20.5  18.3]\n",
            " [147.3  23.9  19.1]\n",
            " [218.4  27.7  53.4]\n",
            " [237.4   5.1  23.5]\n",
            " [ 13.2  15.9  49.6]\n",
            " [228.3  16.9  26.2]\n",
            " [ 62.3  12.6  18.3]\n",
            " [262.9   3.5  19.5]\n",
            " [142.9  29.3  12.6]\n",
            " [240.1  16.7  22.9]\n",
            " [248.8  27.1  22.9]\n",
            " [ 70.6  16.   40.8]\n",
            " [292.9  28.3  43.2]\n",
            " [112.9  17.4  38.6]\n",
            " [ 97.2   1.5  30. ]\n",
            " [265.6  20.    0.3]\n",
            " [ 95.7   1.4   7.4]\n",
            " [290.7   4.1   8.5]\n",
            " [266.9  43.8   5. ]\n",
            " [ 74.7  49.4  45.7]\n",
            " [ 43.1  26.7  35.1]\n",
            " [228.   37.7  32. ]\n",
            " [202.5  22.3  31.6]\n",
            " [177.   33.4  38.7]\n",
            " [293.6  27.7   1.8]\n",
            " [206.9   8.4  26.4]\n",
            " [ 25.1  25.7  43.3]\n",
            " [175.1  22.5  31.5]\n",
            " [ 89.7   9.9  35.7]\n",
            " [239.9  41.5  18.5]\n",
            " [227.2  15.8  49.9]\n",
            " [ 66.9  11.7  36.8]\n",
            " [199.8   3.1  34.6]\n",
            " [100.4   9.6   3.6]\n",
            " [216.4  41.7  39.6]\n",
            " [182.6  46.2  58.7]\n",
            " [262.7  28.8  15.9]\n",
            " [198.9  49.4  60. ]\n",
            " [  7.3  28.1  41.4]\n",
            " [136.2  19.2  16.6]\n",
            " [210.8  49.6  37.7]\n",
            " [210.7  29.5   9.3]\n",
            " [ 53.5   2.   21.4]\n",
            " [261.3  42.7  54.7]\n",
            " [239.3  15.5  27.3]\n",
            " [102.7  29.6   8.4]\n",
            " [131.1  42.8  28.9]\n",
            " [ 69.    9.3   0.9]\n",
            " [ 31.5  24.6   2.2]\n",
            " [139.3  14.5  10.2]\n",
            " [237.4  27.5  11. ]\n",
            " [216.8  43.9  27.2]\n",
            " [199.1  30.6  38.7]\n",
            " [109.8  14.3  31.7]\n",
            " [ 26.8  33.   19.3]\n",
            " [129.4   5.7  31.3]\n",
            " [213.4  24.6  13.1]\n",
            " [ 16.9  43.7  89.4]\n",
            " [ 27.5   1.6  20.7]\n",
            " [120.5  28.5  14.2]\n",
            " [  5.4  29.9   9.4]\n",
            " [116.    7.7  23.1]\n",
            " [ 76.4  26.7  22.3]\n",
            " [239.8   4.1  36.9]\n",
            " [ 75.3  20.3  32.5]\n",
            " [ 68.4  44.5  35.6]\n",
            " [213.5  43.   33.8]\n",
            " [193.2  18.4  65.7]\n",
            " [ 76.3  27.5  16. ]\n",
            " [110.7  40.6  63.2]\n",
            " [ 88.3  25.5  73.4]\n",
            " [109.8  47.8  51.4]\n",
            " [134.3   4.9   9.3]\n",
            " [ 28.6   1.5  33. ]\n",
            " [217.7  33.5  59. ]\n",
            " [250.9  36.5  72.3]\n",
            " [107.4  14.   10.9]\n",
            " [163.3  31.6  52.9]\n",
            " [197.6   3.5   5.9]\n",
            " [184.9  21.   22. ]\n",
            " [289.7  42.3  51.2]\n",
            " [135.2  41.7  45.9]\n",
            " [222.4   4.3  49.8]\n",
            " [296.4  36.3 100.9]\n",
            " [280.2  10.1  21.4]\n",
            " [187.9  17.2  17.9]\n",
            " [238.2  34.3   5.3]\n",
            " [137.9  46.4  59. ]\n",
            " [ 25.   11.   29.7]\n",
            " [ 90.4   0.3  23.2]\n",
            " [ 13.1   0.4  25.6]\n",
            " [255.4  26.9   5.5]\n",
            " [225.8   8.2  56.5]\n",
            " [241.7  38.   23.2]\n",
            " [175.7  15.4   2.4]\n",
            " [209.6  20.6  10.7]\n",
            " [ 78.2  46.8  34.5]\n",
            " [ 75.1  35.   52.7]\n",
            " [139.2  14.3  25.6]\n",
            " [ 76.4   0.8  14.8]\n",
            " [125.7  36.9  79.2]\n",
            " [ 19.4  16.   22.3]\n",
            " [141.3  26.8  46.2]\n",
            " [ 18.8  21.7  50.4]\n",
            " [224.    2.4  15.6]\n",
            " [123.1  34.6  12.4]\n",
            " [229.5  32.3  74.2]\n",
            " [ 87.2  11.8  25.9]\n",
            " [  7.8  38.9  50.6]\n",
            " [ 80.2   0.    9.2]\n",
            " [220.3  49.    3.2]\n",
            " [ 59.6  12.   43.1]\n",
            " [  0.7  39.6   8.7]\n",
            " [265.2   2.9  43. ]\n",
            " [  8.4  27.2   2.1]\n",
            " [219.8  33.5  45.1]\n",
            " [ 36.9  38.6  65.6]\n",
            " [ 48.3  47.    8.5]\n",
            " [ 25.6  39.    9.3]\n",
            " [273.7  28.9  59.7]\n",
            " [ 43.   25.9  20.5]\n",
            " [184.9  43.9   1.7]\n",
            " [ 73.4  17.   12.9]\n",
            " [193.7  35.4  75.6]\n",
            " [220.5  33.2  37.9]\n",
            " [104.6   5.7  34.4]\n",
            " [ 96.2  14.8  38.9]\n",
            " [140.3   1.9   9. ]\n",
            " [240.1   7.3   8.7]\n",
            " [243.2  49.   44.3]\n",
            " [ 38.   40.3  11.9]\n",
            " [ 44.7  25.8  20.6]\n",
            " [280.7  13.9  37. ]\n",
            " [121.    8.4  48.7]\n",
            " [197.6  23.3  14.2]\n",
            " [171.3  39.7  37.7]\n",
            " [187.8  21.1   9.5]\n",
            " [  4.1  11.6   5.7]\n",
            " [ 93.9  43.5  50.5]\n",
            " [149.8   1.3  24.3]\n",
            " [ 11.7  36.9  45.2]\n",
            " [131.7  18.4  34.6]\n",
            " [172.5  18.1  30.7]\n",
            " [ 85.7  35.8  49.3]\n",
            " [188.4  18.1  25.6]\n",
            " [163.5  36.8   7.4]\n",
            " [117.2  14.7   5.4]\n",
            " [234.5   3.4  84.8]\n",
            " [ 17.9  37.6  21.6]\n",
            " [206.8   5.2  19.4]\n",
            " [215.4  23.6  57.6]\n",
            " [284.3  10.6   6.4]\n",
            " [ 50.   11.6  18.4]\n",
            " [164.5  20.9  47.4]\n",
            " [ 19.6  20.1  17. ]\n",
            " [168.4   7.1  12.8]\n",
            " [222.4   3.4  13.1]\n",
            " [276.9  48.9  41.8]\n",
            " [248.4  30.2  20.3]\n",
            " [170.2   7.8  35.2]\n",
            " [276.7   2.3  23.7]\n",
            " [165.6  10.   17.6]\n",
            " [156.6   2.6   8.3]\n",
            " [218.5   5.4  27.4]\n",
            " [ 56.2   5.7  29.7]\n",
            " [287.6  43.   71.8]\n",
            " [253.8  21.3  30. ]\n",
            " [205.   45.1  19.6]\n",
            " [139.5   2.1  26.6]\n",
            " [191.1  28.7  18.2]\n",
            " [286.   13.9   3.7]\n",
            " [ 18.7  12.1  23.4]\n",
            " [ 39.5  41.1   5.8]\n",
            " [ 75.5  10.8   6. ]\n",
            " [ 17.2   4.1  31.6]\n",
            " [166.8  42.    3.6]\n",
            " [149.7  35.6   6. ]\n",
            " [ 38.2   3.7  13.8]\n",
            " [ 94.2   4.9   8.1]\n",
            " [177.    9.3   6.4]\n",
            " [283.6  42.   66.2]\n",
            " [232.1   8.6   8.7]]\n"
          ],
          "name": "stdout"
        }
      ]
    },
    {
      "cell_type": "code",
      "metadata": {
        "id": "ox5S65zLoAC1",
        "colab_type": "code",
        "colab": {}
      },
      "source": [
        ""
      ],
      "execution_count": null,
      "outputs": []
    },
    {
      "cell_type": "code",
      "metadata": {
        "id": "UWVTswnfeECO",
        "colab_type": "code",
        "colab": {
          "base_uri": "https://localhost:8080/",
          "height": 269
        },
        "outputId": "e69fa424-7358-4062-f260-5fbc1a62d4c0"
      },
      "source": [
        "print(Y)"
      ],
      "execution_count": null,
      "outputs": [
        {
          "output_type": "stream",
          "text": [
            "[22.1 10.4  9.3 18.5 12.9  7.2 11.8 13.2  4.8 10.6  8.6 17.4  9.2  9.7\n",
            " 19.  22.4 12.5 24.4 11.3 14.6 18.  12.5  5.6 15.5  9.7 12.  15.  15.9\n",
            " 18.9 10.5 21.4 11.9  9.6 17.4  9.5 12.8 25.4 14.7 10.1 21.5 16.6 17.1\n",
            " 20.7 12.9  8.5 14.9 10.6 23.2 14.8  9.7 11.4 10.7 22.6 21.2 20.2 23.7\n",
            "  5.5 13.2 23.8 18.4  8.1 24.2 15.7 14.  18.   9.3  9.5 13.4 18.9 22.3\n",
            " 18.3 12.4  8.8 11.  17.   8.7  6.9 14.2  5.3 11.  11.8 12.3 11.3 13.6\n",
            " 21.7 15.2 12.  16.  12.9 16.7 11.2  7.3 19.4 22.2 11.5 16.9 11.7 15.5\n",
            " 25.4 17.2 11.7 23.8 14.8 14.7 20.7 19.2  7.2  8.7  5.3 19.8 13.4 21.8\n",
            " 14.1 15.9 14.6 12.6 12.2  9.4 15.9  6.6 15.5  7.  11.6 15.2 19.7 10.6\n",
            "  6.6  8.8 24.7  9.7  1.6 12.7  5.7 19.6 10.8 11.6  9.5 20.8  9.6 20.7\n",
            " 10.9 19.2 20.1 10.4 11.4 10.3 13.2 25.4 10.9 10.1 16.1 11.6 16.6 19.\n",
            " 15.6  3.2 15.3 10.1  7.3 12.9 14.4 13.3 14.9 18.  11.9 11.9  8.  12.2\n",
            " 17.1 15.   8.4 14.5  7.6 11.7 11.5 27.  20.2 11.7 11.8 12.6 10.5 12.2\n",
            "  8.7 26.2 17.6 22.6 10.3 17.3 15.9  6.7 10.8  9.9  5.9 19.6 17.3  7.6\n",
            "  9.7 12.8 25.5 13.4]\n"
          ],
          "name": "stdout"
        }
      ]
    },
    {
      "cell_type": "code",
      "metadata": {
        "id": "5XAnKVpheGXm",
        "colab_type": "code",
        "colab": {}
      },
      "source": [
        ""
      ],
      "execution_count": null,
      "outputs": []
    },
    {
      "cell_type": "code",
      "metadata": {
        "id": "JUPr7y2CfBtc",
        "colab_type": "code",
        "colab": {}
      },
      "source": [
        ""
      ],
      "execution_count": null,
      "outputs": []
    },
    {
      "cell_type": "code",
      "metadata": {
        "id": "u7mnePpPgWBA",
        "colab_type": "code",
        "colab": {}
      },
      "source": [
        ""
      ],
      "execution_count": null,
      "outputs": []
    },
    {
      "cell_type": "code",
      "metadata": {
        "id": "P32eUVu4gZJp",
        "colab_type": "code",
        "colab": {}
      },
      "source": [
        ""
      ],
      "execution_count": null,
      "outputs": []
    },
    {
      "cell_type": "code",
      "metadata": {
        "id": "DDNtEbnZhX1V",
        "colab_type": "code",
        "colab": {
          "base_uri": "https://localhost:8080/",
          "height": 34
        },
        "outputId": "75cc154f-1a14-4f19-c50e-57abf51c8c13"
      },
      "source": [
        "from sklearn.linear_model import LinearRegression\n",
        "model = LinearRegression()\n",
        "model.fit(dataset.drop('sales', axis=1), dataset.sales)\n",
        "print(model)\n"
      ],
      "execution_count": null,
      "outputs": [
        {
          "output_type": "stream",
          "text": [
            "LinearRegression(copy_X=True, fit_intercept=True, n_jobs=None, normalize=False)\n"
          ],
          "name": "stdout"
        }
      ]
    },
    {
      "cell_type": "code",
      "metadata": {
        "id": "WNftNyvThrQy",
        "colab_type": "code",
        "colab": {
          "base_uri": "https://localhost:8080/",
          "height": 228
        },
        "outputId": "4050f50c-4141-4df0-91fa-8f2a64d00434"
      },
      "source": [
        "#Training this model with the use of\n",
        "import statsmodels.formula.api as sm\n",
        "# Fitting the OLS on data\n",
        "model = sm.ols('sales ~ TV + radio + newspaper', dataset).fit()\n",
        "print(model.params)\n",
        "\n",
        "#These results can be interpreted as follows:\n",
        "\n",
        "#If we fix the budget for TV & newspaper, then increasing the radio budget by 1000 USD will lead to an increase in sales by around 189 units(0.189*1000).\n",
        "\n",
        "#Similarly, by fixing the radio & newspaper, we infer an approximate rise of 46 units of products per 1000 USD increase in the TV budget.\n",
        "\n",
        "#However, for the newspaper budget, since the coefficient is quite negligible (close to zero), it’s evident that the newspaper is not affecting the sales. In fact, it’s on the negative side of zero(-0.001) which, if the magnitude was big enough, could have meant that this agent is rather causing the sales to fall. But we cannot make that kind of inference with such negligible value.\n",
        "\n",
        "#If sales is regressed solely on newspaper (as shown below), the slope coefficient will come out to be 0.055, which is significanly large as compared to what we saw above."
      ],
      "execution_count": 19,
      "outputs": [
        {
          "output_type": "stream",
          "text": [
            "/usr/local/lib/python3.6/dist-packages/statsmodels/tools/_testing.py:19: FutureWarning: pandas.util.testing is deprecated. Use the functions in the public API at pandas.testing instead.\n",
            "  import pandas.util.testing as tm\n"
          ],
          "name": "stderr"
        },
        {
          "output_type": "stream",
          "text": [
            "Intercept    2.938889\n",
            "TV           0.045765\n",
            "radio        0.188530\n",
            "newspaper   -0.001037\n",
            "dtype: float64\n"
          ],
          "name": "stdout"
        }
      ]
    },
    {
      "cell_type": "code",
      "metadata": {
        "id": "5vJCG3A_ie6x",
        "colab_type": "code",
        "colab": {
          "base_uri": "https://localhost:8080/",
          "height": 294
        },
        "outputId": "7b11b4f5-f4a2-4b97-be29-200edf633813"
      },
      "source": [
        "#plt.scatter(dataset.TV, dataset.sales, color='blue', label='TV', alpha=0.5)\n",
        "plt.scatter(dataset.radio, dataset.sales, color='red', label='radio', alpha=0.5)\n",
        "#plt.scatter(dataset.newspaper, dataset.sales, color='green', label='newspaper', alpha=0.5)\n",
        "\n",
        "plt.legend(loc=\"lower right\")\n",
        "plt.title(\"Sales vs. Advertising\")\n",
        "plt.xlabel(\"Advertising [1000 $]\")\n",
        "plt.ylabel(\"Sales [Thousands of units]\")\n",
        "plt.grid()\n",
        "plt.show()"
      ],
      "execution_count": 13,
      "outputs": [
        {
          "output_type": "display_data",
          "data": {
            "image/png": "[encoded data removed]",
            "text/plain": [
              "<Figure size 432x288 with 1 Axes>"
            ]
          },
          "metadata": {
            "tags": [],
            "needs_background": "light"
          }
        }
      ]
    },
    {
      "cell_type": "code",
      "metadata": {
        "id": "4XQgVLuFpbSS",
        "colab_type": "code",
        "colab": {}
      },
      "source": [
        ""
      ],
      "execution_count": null,
      "outputs": []
    },
    {
      "cell_type": "markdown",
      "metadata": {
        "id": "vi6ak6s4rjzn",
        "colab_type": "text"
      },
      "source": [
        "Mathematically, general Linear Regression model can be expressed as:\n",
        "$$\\begin{align}\n",
        "Y= β_0+ β_1 X_1+ β_2 X_2+⋯+ β_p X_p\n",
        "\\end{align}$$\n",
        "Here, Y is the output variable, and X terms are the corresponding input variables.The first β term (βo) is the intercept constant and is the value of Y in absence of all predictors (i.e when all X terms are 0).\n",
        "\n",
        "Finding the values of these constants(β) is what regression model does by minimizing the error function and fitting the best line or hyperplane (depending on the number of input variables). This is done by minimizing the Residual Sum of Squares (RSS), which is obtained by squaring the differences between actual and predicted outcomes.\n",
        "\n",
        "$$\\begin{align}\n",
        "RSS=∑_i^n(y_i-y ̂_i )^2 \n",
        "\\end{align}$$\n",
        "Because this method finds the least sum of squares, it is also known as the Ordinary Least Squares (OLS) method.\n",
        "\n",
        "There are two primary ways to implement the OLS algorithm: Scikit Learn and ***Statsmodels***"
      ]
    },
    {
      "cell_type": "code",
      "metadata": {
        "id": "A6x-wVxaq8gQ",
        "colab_type": "code",
        "colab": {
          "base_uri": "https://localhost:8080/",
          "height": 259
        },
        "outputId": "04f1a7a3-85dc-4d1a-cf70-77c9ae407d9e"
      },
      "source": [
        "#we did it in the uper cell corner\n",
        "dataset.corr()"
      ],
      "execution_count": 14,
      "outputs": [
        {
          "output_type": "execute_result",
          "data": {
            "text/html": [
              "<div>\n",
              "<style scoped>\n",
              "    .dataframe tbody tr th:only-of-type {\n",
              "        vertical-align: middle;\n",
              "    }\n",
              "\n",
              "    .dataframe tbody tr th {\n",
              "        vertical-align: top;\n",
              "    }\n",
              "\n",
              "    .dataframe thead th {\n",
              "        text-align: right;\n",
              "    }\n",
              "</style>\n",
              "<table border=\"1\" class=\"dataframe\">\n",
              "  <thead>\n",
              "    <tr style=\"text-align: right;\">\n",
              "      <th></th>\n",
              "      <th>Unnamed: 0</th>\n",
              "      <th>TV</th>\n",
              "      <th>radio</th>\n",
              "      <th>newspaper</th>\n",
              "      <th>sales</th>\n",
              "    </tr>\n",
              "  </thead>\n",
              "  <tbody>\n",
              "    <tr>\n",
              "      <th>Unnamed: 0</th>\n",
              "      <td>1.000000</td>\n",
              "      <td>0.017715</td>\n",
              "      <td>-0.110680</td>\n",
              "      <td>-0.154944</td>\n",
              "      <td>-0.051616</td>\n",
              "    </tr>\n",
              "    <tr>\n",
              "      <th>TV</th>\n",
              "      <td>0.017715</td>\n",
              "      <td>1.000000</td>\n",
              "      <td>0.054809</td>\n",
              "      <td>0.056648</td>\n",
              "      <td>0.782224</td>\n",
              "    </tr>\n",
              "    <tr>\n",
              "      <th>radio</th>\n",
              "      <td>-0.110680</td>\n",
              "      <td>0.054809</td>\n",
              "      <td>1.000000</td>\n",
              "      <td>0.354104</td>\n",
              "      <td>0.576223</td>\n",
              "    </tr>\n",
              "    <tr>\n",
              "      <th>newspaper</th>\n",
              "      <td>-0.154944</td>\n",
              "      <td>0.056648</td>\n",
              "      <td>0.354104</td>\n",
              "      <td>1.000000</td>\n",
              "      <td>0.228299</td>\n",
              "    </tr>\n",
              "    <tr>\n",
              "      <th>sales</th>\n",
              "      <td>-0.051616</td>\n",
              "      <td>0.782224</td>\n",
              "      <td>0.576223</td>\n",
              "      <td>0.228299</td>\n",
              "      <td>1.000000</td>\n",
              "    </tr>\n",
              "  </tbody>\n",
              "</table>\n",
              "</div>"
            ],
            "text/plain": [
              "            Unnamed: 0        TV     radio  newspaper     sales\n",
              "Unnamed: 0    1.000000  0.017715 -0.110680  -0.154944 -0.051616\n",
              "TV            0.017715  1.000000  0.054809   0.056648  0.782224\n",
              "radio        -0.110680  0.054809  1.000000   0.354104  0.576223\n",
              "newspaper    -0.154944  0.056648  0.354104   1.000000  0.228299\n",
              "sales        -0.051616  0.782224  0.576223   0.228299  1.000000"
            ]
          },
          "metadata": {
            "tags": []
          },
          "execution_count": 14
        }
      ]
    },
    {
      "cell_type": "code",
      "metadata": {
        "id": "cBQy6xRf6AOR",
        "colab_type": "code",
        "colab": {
          "base_uri": "https://localhost:8080/",
          "height": 310
        },
        "outputId": "ff74f12f-d635-4992-b6a3-9c27e13b6171"
      },
      "source": [
        "#Plotting the heatmap to visualize the Correlation\n",
        "\n",
        "# Plotting correlation heatmap\n",
        "plt.ylim(-.5,3.5)\n",
        "plt.imshow(dataset.corr(), cmap=plt.cm.GnBu, interpolation='nearest',data=True)\n",
        "plt.colorbar()\n",
        "tick_marks = [i for i in range(len(dataset.columns))]\n",
        "plt.xticks(tick_marks, dataset.columns, rotation=45)\n",
        "plt.yticks(tick_marks, dataset.columns, rotation=45)\n",
        "\n",
        "# Putting annotations\n",
        "for i in range(len(dataset.columns)):\n",
        "    for j in range(len(dataset.columns)):\n",
        "        text = '%.2f'%(dataset.corr().iloc[i,j])\n",
        "        plt.text(i-0.2,j-0.1,text)\n"
      ],
      "execution_count": 17,
      "outputs": [
        {
          "output_type": "display_data",
          "data": {
            "image/png": "[encoded data removed]",
            "text/plain": [
              "<Figure size 432x288 with 2 Axes>"
            ]
          },
          "metadata": {
            "tags": [],
            "needs_background": "light"
          }
        }
      ]
    },
    {
      "cell_type": "markdown",
      "metadata": {
        "id": "t9OMjypt6rBH",
        "colab_type": "text"
      },
      "source": [
        "\n",
        "The correlation between newspaper and radio is 0.35. This indicates a fair relationship between newspaper and radio budgets.\n",
        "\n",
        "Hence, it can be inferred that → when the radio budget is increased for a product, there’s a tendency to spend more on newspapers as well.\n",
        "\n",
        "This is called Multicollinearity and is referred to as a situation in which two or more input variables are linearly related. Hence, even though the Multiple Regression model shows no impact on sales by the newspaper, the Simple Regression model still does due to this multicollinearity and the absence of other input variables.\n",
        "\n",
        "$Sales & Radio → probable causation Newspaper & Radio → multicollinearity Sales & Newspaper → transitive correlation$\n",
        "\n",
        "**bold text**"
      ]
    },
    {
      "cell_type": "markdown",
      "metadata": {
        "id": "mXp3Z_Yf60eE",
        "colab_type": "text"
      },
      "source": [
        "\n",
        "Hypothesis Testing\n",
        "One of the fundamental questions that should be answered while running Multiple Linear Regression is, whether or not, at least one of the predictors is useful in predicting the output.\n",
        "\n",
        "We saw that the three predictors TV, radio and newspaper had a different degree of linear relationship with the sales. But what if the relationship is just by chance and there is no actual impact on sales due to any of the predictors?\n",
        "\n",
        "The model can only give us numbers to establish a close enough linear relationship between the response variable and the predictors. However, it cannot prove the credibility of these relationships.\n",
        "\n",
        "To have some confidence, we take help from statistics and do something known as a Hypothesis Test. We start by forming a Null Hypothesis and a corresponding Alternative Hypothesis.\n",
        "\n",
        "$$\\begin{align}\n",
        "H_0 : \\beta_1 = \\beta_2 = ... = \\beta_p = 0\n",
        "\\end{align}$$$$\\begin{align}\n",
        "H_0 : \\beta_TV = \\beta_radio = \\beta_newspaper = 0\n",
        "\\end{align}$$\n",
        "$$\\begin{align}\n",
        "H_a : At \\: least \\: one \\: \\beta_i \\: is \\: non-zero\n",
        "\\end{align}$$\n",
        "The hypothesis test is performed by"
      ]
    },
    {
      "cell_type": "code",
      "metadata": {
        "id": "mjpXUdry6Dpx",
        "colab_type": "code",
        "colab": {
          "base_uri": "https://localhost:8080/",
          "height": 643
        },
        "outputId": "4b52a31e-847a-4193-c7e6-bc23e341404f"
      },
      "source": [
        "print(model.summary2())"
      ],
      "execution_count": 20,
      "outputs": [
        {
          "output_type": "stream",
          "text": [
            "                 Results: Ordinary least squares\n",
            "=================================================================\n",
            "Model:              OLS              Adj. R-squared:     0.896   \n",
            "Dependent Variable: sales            AIC:                780.3622\n",
            "Date:               2020-08-13 08:25 BIC:                793.5555\n",
            "No. Observations:   200              Log-Likelihood:     -386.18 \n",
            "Df Model:           3                F-statistic:        570.3   \n",
            "Df Residuals:       196              Prob (F-statistic): 1.58e-96\n",
            "R-squared:          0.897            Scale:              2.8409  \n",
            "------------------------------------------------------------------\n",
            "                Coef.   Std.Err.     t     P>|t|    [0.025  0.975]\n",
            "------------------------------------------------------------------\n",
            "Intercept       2.9389    0.3119   9.4223  0.0000   2.3238  3.5540\n",
            "TV              0.0458    0.0014  32.8086  0.0000   0.0430  0.0485\n",
            "radio           0.1885    0.0086  21.8935  0.0000   0.1715  0.2055\n",
            "newspaper      -0.0010    0.0059  -0.1767  0.8599  -0.0126  0.0105\n",
            "-----------------------------------------------------------------\n",
            "Omnibus:             60.414       Durbin-Watson:          2.084  \n",
            "Prob(Omnibus):       0.000        Jarque-Bera (JB):       151.241\n",
            "Skew:                -1.327       Prob(JB):               0.000  \n",
            "Kurtosis:            6.332        Condition No.:          454    \n",
            "=================================================================\n",
            "\n"
          ],
          "name": "stdout"
        }
      ]
    },
    {
      "cell_type": "markdown",
      "metadata": {
        "id": "__lccE0F7V-i",
        "colab_type": "text"
      },
      "source": [
        "If the value of F-statistic is equal to or very close to 1, then the results are in favor of the Null Hypothesis and we fail to reject it.\n",
        "\n",
        "But as we can see that the F-statistic is many folds larger than 1, thus providing strong evidence against the Null Hypothesis (that all coefficients are zero). Hence, we reject the Null Hypothesis and are confident that at least one predictor is useful in predicting the output.\n",
        "\n",
        "Note that F-statistic is not suitable when the number of predictors(p) is large, or if p is greater than the number of data samples (n).\n",
        "\n",
        "Hence, we can say that at least one of the three advertising agents is useful in predicting sales.\n",
        "\n",
        "But to find out, which predictor or predictors are useful and which one are not, we do Feature Selection\n",
        "\n",
        "Two of the ways of doing Feature Selection are Forward Selecton & Backward Selection\n",
        "\n",
        "Let's proceed with forward selection. We start with a model without any predictor and just the intercept term. We then perform simple linear regression for each predictor to find the best performer(lowest RSS). We then add another variable to it and check for the best 2-variable combination again by calculating the lowest RSS(Residual Sum of Squares). After that the best 3-variable combination is checked, and so on. The approach is stopped when some stopping rule is satisfied."
      ]
    },
    {
      "cell_type": "code",
      "metadata": {
        "id": "tLMp7iuY67rK",
        "colab_type": "code",
        "colab": {}
      },
      "source": [
        "# Defining the function to evaluate amodel\n",
        "def evaluateModel (model):\n",
        "    print(\"RSS = \", ((dataset.sales - model.predict())**2).sum())\n",
        "    print(\"R2 = \", model.rsquared)"
      ],
      "execution_count": 22,
      "outputs": []
    },
    {
      "cell_type": "code",
      "metadata": {
        "id": "i6hSTHkd7a9y",
        "colab_type": "code",
        "colab": {
          "base_uri": "https://localhost:8080/",
          "height": 344
        },
        "outputId": "52a71d3b-0024-47c9-aea4-2927e9a420f7"
      },
      "source": [
        "# For TV\n",
        "model_TV = sm.ols('sales ~ TV', dataset).fit()\n",
        "print(\"model_TV\")\n",
        "evaluateModel(model_TV)\n",
        "print(\"------------\")\n",
        "\n",
        "# For radio\n",
        "model_radio = sm.ols('sales ~ radio', dataset).fit()\n",
        "print(\"model_radio\")\n",
        "evaluateModel(model_radio)\n",
        "print(\"------------\")\n",
        "\n",
        "# For newspaper\n",
        "model_newspaper = sm.ols('sales ~ newspaper', dataset).fit()\n",
        "print(\"model_newspaper\")\n",
        "evaluateModel(model_newspaper)\n",
        "print(\"------------\")"
      ],
      "execution_count": 23,
      "outputs": [
        {
          "output_type": "stream",
          "text": [
            "model_TV\n",
            "RSS =  2102.530583131351\n",
            "R2 =  0.611875050850071\n",
            "------------\n",
            "model_radio\n",
            "RSS =  3618.479549025087\n",
            "R2 =  0.33203245544529547\n",
            "------------\n",
            "model_newspaper\n",
            "RSS =  5134.804544111939\n",
            "R2 =  0.05212044544430516\n",
            "------------\n"
          ],
          "name": "stdout"
        }
      ]
    },
    {
      "cell_type": "markdown",
      "metadata": {
        "id": "j7qAmgCH7u7r",
        "colab_type": "text"
      },
      "source": [
        "We observe that for model_TV, the RSS is least and R² value is the most among all the models. Hence we select model_TV as our base model to move forward.\n",
        "\n",
        "Now, we will add the radio and newspaper one by one and check the new values"
      ]
    },
    {
      "cell_type": "code",
      "metadata": {
        "id": "TO3AhJ6g7qLS",
        "colab_type": "code",
        "colab": {
          "base_uri": "https://localhost:8080/",
          "height": 235
        },
        "outputId": "bc9b729a-0995-4f6d-da82-e9993518ded2"
      },
      "source": [
        "# For TV & radio\n",
        "model_TV_radio = sm.ols('sales ~ TV + radio', dataset).fit()\n",
        "print(\"model_TV_radio\")\n",
        "evaluateModel(model_TV_radio)\n",
        "print(\"------------\")\n",
        "\n",
        "# For TV & newspaper\n",
        "model_TV_newspaper = sm.ols('sales ~ TV + newspaper', dataset).fit()\n",
        "print(\"model_TV_newspaper\")\n",
        "evaluateModel(model_TV_newspaper)\n",
        "print(\"------------\")"
      ],
      "execution_count": 24,
      "outputs": [
        {
          "output_type": "stream",
          "text": [
            "model_TV_radio\n",
            "RSS =  556.9139800676184\n",
            "R2 =  0.8971942610828956\n",
            "------------\n",
            "model_TV_newspaper\n",
            "RSS =  1918.5618118968273\n",
            "R2 =  0.6458354938293271\n",
            "------------\n"
          ],
          "name": "stdout"
        }
      ]
    },
    {
      "cell_type": "markdown",
      "metadata": {
        "id": "KNprk1En7-uG",
        "colab_type": "text"
      },
      "source": [
        "As we can see that our values have improved tremendously in TV & radio model. RSS has increased and R² has decreased further, as compared to model_TV. It’s a good sign.\n",
        "\n",
        "On the other hand, it's not the same for TV and newspaper. The values have improved slightly by adding newspaper too, but not as significantly as with the radio. Hence, at this step, we will proceed with the TV & radio model and will observe the difference when we add newspaper to this model.**bold text**"
      ]
    },
    {
      "cell_type": "code",
      "metadata": {
        "id": "pUQVBUhn738w",
        "colab_type": "code",
        "colab": {
          "base_uri": "https://localhost:8080/",
          "height": 126
        },
        "outputId": "a5d081f4-977f-4678-8e14-d61b5c4bf44e"
      },
      "source": [
        "# For TV, radio & newspaper\n",
        "model_all = sm.ols('sales ~ TV + radio + newspaper', dataset).fit()\n",
        "print(\"model_all\")\n",
        "evaluateModel(model_all)\n",
        "print(\"------------\")"
      ],
      "execution_count": 25,
      "outputs": [
        {
          "output_type": "stream",
          "text": [
            "model_all\n",
            "RSS =  556.8252629021872\n",
            "R2 =  0.8972106381789522\n",
            "------------\n"
          ],
          "name": "stdout"
        }
      ]
    },
    {
      "cell_type": "markdown",
      "metadata": {
        "id": "aWoaQ7W58JN3",
        "colab_type": "text"
      },
      "source": [
        "The values have not improved with any significance. Hence, it’s imperative to not add newspaper and finalize the model with TV and radio as selected features. So our final model can be expressed as below:$$\\begin{align}\n",
        "sales = 2.92 + 0.046&lt;em&gt;TV + 0.188&lt;/em&gt;radio\n",
        "\\end{align}$$\n",
        "\n",
        "Plotting the variables TV, radio, and sales in the 3D graph, we can visualize how our model has fit a regression plane to the data.**bold text**"
      ]
    },
    {
      "cell_type": "code",
      "metadata": {
        "id": "ou-jvYd_8F4C",
        "colab_type": "code",
        "colab": {
          "base_uri": "https://localhost:8080/",
          "height": 350
        },
        "outputId": "100a666b-c77b-4c92-a231-d423823d4ea8"
      },
      "source": [
        "\"\"\"\n",
        "Created on Mon Aug 13  2020\n",
        "\n",
        "@author: Mohd Sheriff (@datascience with sheriff)\n",
        "\"\"\"\n",
        "\n",
        "# Importing few libraries again for readibility\n",
        "\n",
        "import pandas as pd\n",
        "import numpy as np\n",
        "from mpl_toolkits import mplot3d\n",
        "%matplotlib inline\n",
        "import matplotlib.pyplot as plt\n",
        "from mpl_toolkits.mplot3d import Axes3D\n",
        "\n",
        "## Loading data in ad variable\n",
        "ad = pd.read_csv(\"Advertising.csv\")\n",
        "ad.drop(\"Unnamed: 0\", axis =1,inplace=True)\n",
        "\n",
        "\n",
        "fig = plt.figure(figsize=(12,10))\n",
        "ax = fig.add_subplot(211, projection='3d')\n",
        "\n",
        "fig.suptitle('Regression: Sales ~ TV & radio Advertising')\n",
        "\n",
        "\n",
        "# Defining z function (or sales in terms of TV and radio)\n",
        "def z_function(x,y):\n",
        "    return (2.938889 + (0.045765*y) + (0.188530*x))\n",
        "\n",
        "X, Y = np.meshgrid(range(0,50,2),range(0,300,10))\n",
        "Z = z_function(X, Y)\n",
        "\n",
        "\n",
        "## Creating Wireframe\n",
        "ax.plot_wireframe(X, Y, Z, color='black')\n",
        "ax.set_xlabel('x')\n",
        "ax.set_ylabel('y')\n",
        "ax.set_zlabel('z')\n",
        "\n",
        "## Creating Surface plot\n",
        "ax.plot_surface(X, Y, Z, rstride=1, cstride=1, cmap='winter', edgecolor='black', alpha=0.8)\n",
        "\n",
        "## Adding Scatter Plot\n",
        "ax.scatter(ad.radio, ad.TV, ad.sales, c='red', s=25)\n",
        "\n",
        "## Adding labels\n",
        "ax.set_xlabel('Radio')\n",
        "ax.set_ylabel('TV')\n",
        "ax.set_zlabel('Sales')\n",
        "ax.text(0,150,1, '@DataScience WithSheriff')\n",
        "\n",
        "## Rotating for better view\n",
        "ax.view_init(10,30)"
      ],
      "execution_count": 26,
      "outputs": [
        {
          "output_type": "display_data",
          "data": {
            "image/png": "[encoded data removed]",
            "text/plain": [
              "<Figure size 864x720 with 1 Axes>"
            ]
          },
          "metadata": {
            "tags": [],
            "needs_background": "light"
          }
        }
      ]
    },
    {
      "cell_type": "code",
      "metadata": {
        "id": "xtWoxxuh81XK",
        "colab_type": "code",
        "colab": {}
      },
      "source": [
        ""
      ],
      "execution_count": null,
      "outputs": []
    }
  ]
}